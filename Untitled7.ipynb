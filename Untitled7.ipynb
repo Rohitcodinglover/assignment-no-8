{
 "cells": [
  {
   "cell_type": "code",
   "execution_count": 5,
   "id": "399f1da1-5f4d-4839-96d9-637569745913",
   "metadata": {},
   "outputs": [
    {
     "name": "stdout",
     "output_type": "stream",
     "text": [
      "python keywoard list :\n",
      "['False', 'None', 'True', 'and', 'as', 'assert', 'async', 'await', 'break', 'class', 'continue', 'def', 'del', 'elif', 'else', 'except', 'finally', 'for', 'from', 'global', 'if', 'import', 'in', 'is', 'lambda', 'nonlocal', 'not', 'or', 'pass', 'raise', 'return', 'try', 'while', 'with', 'yield']\n"
     ]
    }
   ],
   "source": [
    "# 1) Explain the significance of Python keywords and provide examples of five keywords.\n",
    "import keyword\n",
    "print(\"python keywoard list :\")\n",
    "print(keyword.kwlist)\n",
    "\n",
    "# there are some python keyword list . keyword is the special work in the every programming language.\n"
   ]
  },
  {
   "cell_type": "code",
   "execution_count": 6,
   "id": "0c833df0-a670-4c63-85f6-45838ec65676",
   "metadata": {},
   "outputs": [
    {
     "name": "stdout",
     "output_type": "stream",
     "text": [
      "example of True, False, and, or, not keywords\n",
      "True\n",
      "True\n",
      "True\n"
     ]
    }
   ],
   "source": [
    "# 2) Describe the rules for defining identifiers in Python and provide an example.\n",
    "\n",
    "print(\"example of True, False, and, or, not keywords\")\n",
    "\n",
    "#  compare two operands using and operator\n",
    "print(True and True)\n",
    "\n",
    "# compare two operands using or operator\n",
    "print(True or False)\n",
    "\n",
    "# use of not operator\n",
    "print(not False)"
   ]
  },
  {
   "cell_type": "code",
   "execution_count": 7,
   "id": "071ca0e0-aecb-4f15-9be2-35df4b6ca33b",
   "metadata": {},
   "outputs": [
    {
     "data": {
      "text/plain": [
       "' there are two types of comments \\n    1) single line comments\\n    2) multiline comments\\n\\n1) Here, # print a number is a comment.( sinle line comments)\\n for example:-\\n # print a number\\nprint(25)\\n\\n\\n2) here, multiline comment with example:- \\n\\n# This is an example of a multiline comment\\n# created using multiple single-line commenced\\n# The code prints the text Hello World\\nprint(\"Hello, World!\") '"
      ]
     },
     "execution_count": 7,
     "metadata": {},
     "output_type": "execute_result"
    }
   ],
   "source": [
    "# 3) What are comments in Python, and why are they useful? Provide an example.\n",
    "\n",
    "''' there are two types of comments \n",
    "    1) single line comments\n",
    "    2) multiline comments\n",
    "\n",
    "1) Here, # print a number is a comment.( sinle line comments)\n",
    " for example:-\n",
    " # print a number\n",
    "print(25)\n",
    "\n",
    "\n",
    "2) here, multiline comment with example:- \n",
    "\n",
    "# This is an example of a multiline comment\n",
    "# created using multiple single-line commenced\n",
    "# The code prints the text Hello World\n",
    "print(\"Hello, World!\") '''\n",
    "\n",
    "\n"
   ]
  },
  {
   "cell_type": "code",
   "execution_count": 10,
   "id": "9b10e011-6387-4615-8562-6dfe46d3d7d4",
   "metadata": {},
   "outputs": [
    {
     "name": "stdout",
     "output_type": "stream",
     "text": [
      "Done\n"
     ]
    }
   ],
   "source": [
    "# 4) Why is proper indentation important in Python?\n",
    "\n",
    "'''Python Indentation Rules:-\n",
    "\n",
    "Below are the rules that one should follow while using indentation:\n",
    "\n",
    "\n",
    "The first line of Python code can’t have an indentation, it will throw IndentationError.\n",
    "You should avoid mixing tabs and whitespaces to create an indentation. It’s because text editors in Non-Unix systems behave differently and mixing them can cause the wrong indentation.\n",
    "It is preferred to use whitespace than the tab character.\n",
    "The best practice is to use 4 whitespaces for the first indentation and then keep adding additional 4 whitespaces to increase the indentation.\n",
    "Benefits of Indentation in Python\n",
    "The proper use of indentation in a program provides many benefits, some of them are: \n",
    "\n",
    "Indentation is important to increase the readability of the code by clearly indicating the hierarchy (i.e. if statements belong to the same block or not).\n",
    "This avoids the need to use delimiters such as braces or brackets, which is mandatory in most programming languages like C, C++, Java, etc.\n",
    "Python indentation is consistent throughout the program, making it easier to debug.\n",
    "In most programming languages, indentation makes the structure of the code proper. Python uses it for grouping, making the code automatically beautiful.\n",
    "Python indentation rules are very simple. Most of the Python IDEs automatically indent the code for you, so it’s very easy to write the properly indented python '''\n",
    "\n",
    "\n",
    "def foo():\n",
    "    print(\"Hi\")\n",
    " \n",
    "    if True:\n",
    "        print(\"true\")\n",
    "    else:\n",
    "        print(\"false\")\n",
    " \n",
    "print(\"Done\")\n",
    " \n"
   ]
  },
  {
   "cell_type": "code",
   "execution_count": 11,
   "id": "5a52b20f-81f7-4f39-8ee0-4215cc5bbccb",
   "metadata": {},
   "outputs": [
    {
     "ename": "IndentationError",
     "evalue": "expected an indented block after function definition on line 3 (2425051184.py, line 4)",
     "output_type": "error",
     "traceback": [
      "\u001b[1;36m  Cell \u001b[1;32mIn[11], line 4\u001b[1;36m\u001b[0m\n\u001b[1;33m    if a > 2:\u001b[0m\n\u001b[1;37m    ^\u001b[0m\n\u001b[1;31mIndentationError\u001b[0m\u001b[1;31m:\u001b[0m expected an indented block after function definition on line 3\n"
     ]
    }
   ],
   "source": [
    "# 5) What happens if indentation is incorrect in Python?\n",
    "\n",
    "'''you can notice the gaps which is provided at the correct places. \n",
    "This gap makes code properly readable, beautiful and easy to understand. \n",
    "Indentation replaces the curly braces {} in writing code. this indentation describes the scope of a block.\n",
    "If you do not use proper indentation the compiler will return Indentation error''' \n",
    "    \n",
    "def check_number(a):\n",
    "if a > 2:\n",
    "if a < 7:\n",
    "return \"Number is between 2 and 7\"\n",
    "return \"Number is greater than 2\"\n",
    "return \"Number is out of the range of 2 and 7\"\n",
    "\n",
    "a = 5\n",
    "result = check_number(a)\n",
    "print(result)\n",
    "\n",
    "output:- IndentationError\n",
    "\n"
   ]
  },
  {
   "cell_type": "code",
   "execution_count": null,
   "id": "3b1b5d3c-1a7d-410f-8fb2-b970f4186c91",
   "metadata": {},
   "outputs": [],
   "source": [
    "# 6) Differentiate between expression and statement in Python with examples.\n",
    "\n",
    "'''Some instructions can have a value and cause side effects at the same time. \n",
    "In other words, they’re expressions with side effects or, equivalently, statements with a value.\n",
    "A prime example of that would be Python’s next() function built into the language'''\n",
    "\n",
    ">>> fruit = iter([\"apple\", \"banana\", \"orange\"])\n",
    ">>> next(fruit)\n",
    "'apple'\n",
    ">>> next(fruit)\n",
    "'banana'\n",
    ">>> next(fruit)\n",
    "'orange'\n",
    "\n",
    "1) 42 + 8\n",
    "50\n",
    "This is an arithmetic expression, which evaluates to 50. \n",
    "Since you haven’t intercepted its value, for example, by assigning the expression\n",
    " to a variable or passing it to a function as an argument\n",
    "\n",
    "2)  import math\n",
    ">>>\n",
    "This is an import statement, which doesn’t have a corresponding value.\n",
    "Instead, it loads the specified Python package into your current namespace as a side effect"
   ]
  }
 ],
 "metadata": {
  "kernelspec": {
   "display_name": "Python 3 (ipykernel)",
   "language": "python",
   "name": "python3"
  },
  "language_info": {
   "codemirror_mode": {
    "name": "ipython",
    "version": 3
   },
   "file_extension": ".py",
   "mimetype": "text/x-python",
   "name": "python",
   "nbconvert_exporter": "python",
   "pygments_lexer": "ipython3",
   "version": "3.12.4"
  }
 },
 "nbformat": 4,
 "nbformat_minor": 5
}
